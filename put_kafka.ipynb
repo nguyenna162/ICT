{
 "cells": [
  {
   "cell_type": "code",
   "execution_count": 1,
   "metadata": {},
   "outputs": [],
   "source": [
    "import time\n",
    "import os\n",
    "from watchdog.observers import Observer\n",
    "from watchdog.events import FileSystemEventHandler\n",
    "from kafka import KafkaProducer"
   ]
  },
  {
   "cell_type": "code",
   "execution_count": 2,
   "metadata": {},
   "outputs": [],
   "source": [
    "#Đẩy lên kafka\n",
    "producer = KafkaProducer(bootstrap_servers=\"localhost:9092\")\n",
    "\n",
    "with open(\"VCB Historical Data.csv\", \"r\") as f:\n",
    "    for line in f:\n",
    "        producer.send(\"n2_ict\", line.encode())\n",
    "\n",
    "producer.flush()"
   ]
  },
  {
   "cell_type": "code",
   "execution_count": null,
   "metadata": {},
   "outputs": [
    {
     "name": "stdout",
     "output_type": "stream",
     "text": [
      "Watching directory: D:\\SIC-BD1\\Result\n"
     ]
    }
   ],
   "source": [
    "\n",
    "class FileChangeHandler(FileSystemEventHandler):\n",
    "    def __init__(self, file_path, kafka_topic, producer):\n",
    "        self.file_path = file_path\n",
    "        self.kafka_topic = kafka_topic\n",
    "        self.producer = producer\n",
    "        self.last_position = os.path.getsize(file_path)\n",
    "    \n",
    "    def on_modified(self, event):\n",
    "        if event.src_path == self.file_path:\n",
    "            with open(self.file_path, 'r') as file:\n",
    "                file.seek(self.last_position)\n",
    "                new_lines = file.readlines()\n",
    "                self.last_position = file.tell()\n",
    "                \n",
    "                for line in new_lines:\n",
    "                    self.producer.send(self.kafka_topic, line.encode('utf-8'))\n",
    "                    print(f\"Sent to Kafka: {line.strip()}\")\n",
    "\n",
    "def watch_file(file_path, kafka_topic):\n",
    "    producer = KafkaProducer(bootstrap_servers='localhost:9092')\n",
    "    event_handler = FileChangeHandler(file_path, kafka_topic, producer)\n",
    "    \n",
    "    # Kiểm tra và in ra đường dẫn\n",
    "    directory = os.path.dirname(file_path)\n",
    "    print(f\"Watching directory: {directory}\")\n",
    "    \n",
    "    observer = Observer()\n",
    "    observer.schedule(event_handler, path=directory, recursive=False)\n",
    "    observer.start()\n",
    "    \n",
    "    try:\n",
    "        while True:\n",
    "            time.sleep(1)\n",
    "    except KeyboardInterrupt:\n",
    "        observer.stop()\n",
    "    observer.join()\n",
    "\n",
    "# Sử dụng đường dẫn tuyệt đối\n",
    "file_path = r\"D:\\SIC-BD1\\Result\\VCB Historical Data.csv\"\n",
    "watch_file(file_path, 'n2_ict')\n"
   ]
  }
 ],
 "metadata": {
  "kernelspec": {
   "display_name": "Python 3",
   "language": "python",
   "name": "python3"
  },
  "language_info": {
   "codemirror_mode": {
    "name": "ipython",
    "version": 3
   },
   "file_extension": ".py",
   "mimetype": "text/x-python",
   "name": "python",
   "nbconvert_exporter": "python",
   "pygments_lexer": "ipython3",
   "version": "3.8.5"
  }
 },
 "nbformat": 4,
 "nbformat_minor": 2
}
